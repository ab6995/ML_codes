{
 "cells": [
  {
   "cell_type": "code",
   "execution_count": 6,
   "metadata": {
    "collapsed": false
   },
   "outputs": [],
   "source": [
    "import pandas as pd\n",
    "import numpy as np\n",
    "df = pd.read_csv('train-utf8.csv')\n",
    "#df2 = pd.read_csv('google_badlist.txt')\n",
    "dfcomment = df['Comment']\n",
    "df['Flag'] = 0\n",
    "names = ['BadWords']\n",
    "df3 = pd.read_table('google_badlist.txt', header=None,names=names,na_values='?')\n",
    "dfbadwords = df3['BadWords']\n",
    "\n",
    "\n",
    "dfbadwords = dfbadwords.str.lower().str.replace(' ', '')\n",
    "dfcomment = dfcomment.str.replace('[^\\w\\s]','')\n",
    "dfcomment = dfcomment.str.strip().str.lower().str.replace(' ', '_')\n",
    "count =0\n",
    "serial = -1\n",
    "for x in dfcomment:\n",
    "    serial = serial + 1\n",
    "    words = x.split('_')\n",
    "    p =0\n",
    "    for y in words:\n",
    "        for z in dfbadwords:\n",
    "            if y == z:\n",
    "              count = count+1\n",
    "              p =1\n",
    "    if p == 1:\n",
    "        df.ix[serial, 'Flag'] = 1\n",
    "\n"
   ]
  },
  {
   "cell_type": "code",
   "execution_count": 8,
   "metadata": {
    "collapsed": false
   },
   "outputs": [
    {
     "data": {
      "text/plain": [
       "972"
      ]
     },
     "execution_count": 8,
     "metadata": {},
     "output_type": "execute_result"
    }
   ],
   "source": [
    "df.Flag.sum()"
   ]
  },
  {
   "cell_type": "code",
   "execution_count": 57,
   "metadata": {
    "collapsed": false
   },
   "outputs": [
    {
     "name": "stdout",
     "output_type": "stream",
     "text": [
      "Accuracy Score:  0.695718267038\n",
      "Precision Score:  0.695718267038\n",
      "Recall Score:  0.390848427073\n",
      "F1 Score:  0.405739732806\n",
      "AUC Score:  0.598460790486\n"
     ]
    }
   ],
   "source": [
    "from sklearn.metrics import *\n",
    "true = np.array(df['Insult'])\n",
    "pred = np.array(df['Flag'])\n",
    "print(\"Accuracy Score: \", (accuracy_score(true, pred)))\n",
    "print(\"Precision Score: \", (precision_score(true,pred,average='micro')))\n",
    "print(\"Recall Score: \", (recall_score(true, pred, average = 'binary')))\n",
    "print(\"F1 Score: \", (f1_score(true,pred, average = 'binary')))\n",
    "print(\"AUC Score: \", (roc_auc_score(true, pred)))"
   ]
  },
  {
   "cell_type": "code",
   "execution_count": null,
   "metadata": {
    "collapsed": true
   },
   "outputs": [],
   "source": []
  }
 ],
 "metadata": {
  "anaconda-cloud": {},
  "kernelspec": {
   "display_name": "Python [Root]",
   "language": "python",
   "name": "Python [Root]"
  },
  "language_info": {
   "codemirror_mode": {
    "name": "ipython",
    "version": 3
   },
   "file_extension": ".py",
   "mimetype": "text/x-python",
   "name": "python",
   "nbconvert_exporter": "python",
   "pygments_lexer": "ipython3",
   "version": "3.5.2"
  }
 },
 "nbformat": 4,
 "nbformat_minor": 2
}

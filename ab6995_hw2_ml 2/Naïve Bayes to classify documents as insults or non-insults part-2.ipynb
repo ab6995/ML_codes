{
 "cells": [
  {
   "cell_type": "code",
   "execution_count": 2,
   "metadata": {
    "collapsed": false
   },
   "outputs": [],
   "source": [
    "import pandas as pd\n",
    "import numpy as np\n",
    "\n",
    "\n",
    "datadf= pd.read_csv('train-utf8.csv')\n",
    "df_comment = datadf['Comment']\n",
    "datadf = datadf.drop('Date', axis=1)\n",
    "\n",
    "from sklearn.feature_extraction.text import CountVectorizer\n",
    "from sklearn.pipeline import Pipeline\n",
    "from sklearn.naive_bayes import MultinomialNB\n",
    "\n",
    "pipeline = Pipeline([\n",
    "    ('vector', CountVectorizer()),\n",
    "    ('MNBclassifier', MultinomialNB())])\n",
    "\n",
    "from sklearn.model_selection import KFold\n",
    "from sklearn.metrics import *\n",
    "from sklearn.model_selection import train_test_split\n",
    "\n",
    "X_axis = pd.DataFrame(datadf['Comment'])\n",
    "Y_axis= pd.Series(datadf['Insult'])\n",
    "\n",
    "X_train, X_test, Y_train, Y_test = train_test_split(X_axis, Y_axis)\n",
    "pipeline.fit(X_train['Comment'].values,Y_train.values)\n",
    "p = pipeline.predict(X_test['Comment'])"
   ]
  },
  {
   "cell_type": "code",
   "execution_count": 6,
   "metadata": {
    "collapsed": false
   },
   "outputs": [
    {
     "name": "stdout",
     "output_type": "stream",
     "text": [
      "('Accuracy Score: ', 0.80749746707193515)\n",
      "('Precision Score: ', 0.62)\n",
      "('Recall Score: ', 0.52100840336134457)\n",
      "('F1 Score: ', 0.56621004566210043)\n",
      "('AUC Score: ', 0.70976988926411688)\n"
     ]
    }
   ],
   "source": [
    "print(\"Accuracy Score: \", (accuracy_score(Y_test, p)))\n",
    "print(\"Precision Score: \", (precision_score(Y_test, p)))\n",
    "print(\"Recall Score: \", (recall_score(Y_test, p)))\n",
    "print(\"F1 Score: \", (f1_score(Y_test, p)))\n",
    "print(\"AUC Score: \", (roc_auc_score(Y_test, p)))"
   ]
  },
  {
   "cell_type": "code",
   "execution_count": 4,
   "metadata": {
    "collapsed": false
   },
   "outputs": [],
   "source": [
    "import pandas as pd\n",
    "import numpy as np\n",
    "\n",
    "\n",
    "datadf = pd.read_csv('train-utf8.csv')\n",
    "df_comment = datadf['Comment']\n",
    "datadf = datadf.drop('Date', axis=1)\n",
    "\n",
    "\n",
    "from sklearn.feature_extraction.text import CountVectorizer\n",
    "from sklearn.pipeline import Pipeline\n",
    "from sklearn.naive_bayes import BernoulliNB\n",
    "\n",
    "pipeline = Pipeline([\n",
    "    ('vector', CountVectorizer()),\n",
    "    ('BNBclassifier', BernoulliNB())])\n",
    "\n",
    "from sklearn.model_selection import KFold\n",
    "from sklearn.metrics import *\n",
    "from sklearn.model_selection import train_test_split\n",
    "\n",
    "X_axis = pd.DataFrame(datadf['Comment'])\n",
    "Y_axis= pd.Series(datadf['Insult'])\n",
    "\n",
    "X_train, X_test, Y_train, Y_test = train_test_split(X_axis, Y_axis)\n",
    "pipeline.fit(X_train['Comment'].values,Y_train.values)\n",
    "p = pipeline.predict(X_test['Comment'])"
   ]
  },
  {
   "cell_type": "code",
   "execution_count": 8,
   "metadata": {
    "collapsed": false
   },
   "outputs": [
    {
     "name": "stdout",
     "output_type": "stream",
     "text": [
      "('Accuracy Score: ', 0.78419452887537999)\n",
      "('Precision Score: ', 0.97727272727272729)\n",
      "('Recall Score: ', 0.16862745098039217)\n",
      "('F1 Score: ', 0.2876254180602007)\n",
      "('AUC Score: ', 0.58363066538090658)\n"
     ]
    }
   ],
   "source": [
    "print(\"Accuracy Score: \", (accuracy_score(Y_test, p)))\n",
    "print(\"Precision Score: \", (precision_score(Y_test, p)))\n",
    "print(\"Recall Score: \", (recall_score(Y_test, p)))\n",
    "print(\"F1 Score: \", (f1_score(Y_test, p)))\n",
    "print(\"AUC Score: \", (roc_auc_score(Y_test, p)))"
   ]
  },
  {
   "cell_type": "code",
   "execution_count": null,
   "metadata": {
    "collapsed": true
   },
   "outputs": [],
   "source": []
  }
 ],
 "metadata": {
  "anaconda-cloud": {},
  "kernelspec": {
   "display_name": "Python [Root]",
   "language": "python",
   "name": "Python [Root]"
  },
  "language_info": {
   "codemirror_mode": {
    "name": "ipython",
    "version": 3
   },
   "file_extension": ".py",
   "mimetype": "text/x-python",
   "name": "python",
   "nbconvert_exporter": "python",
   "pygments_lexer": "ipython3",
   "version": "3.5.2"
  }
 },
 "nbformat": 4,
 "nbformat_minor": 0
}
